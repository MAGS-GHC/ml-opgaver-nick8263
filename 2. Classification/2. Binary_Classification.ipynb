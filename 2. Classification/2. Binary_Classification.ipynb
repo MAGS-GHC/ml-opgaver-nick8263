{
  "cells": [
    {
      "cell_type": "markdown",
      "metadata": {
        "id": "TL5y5fY9Jy_x"
      },
      "source": [
        "# Binary Classification\n",
        "\n",
        "So far, you've only created regression models. That is, you created models that produced floating-point predictions, such as, \"houses in this neighborhood costs N thousand dollars.\" In this Colab, you'll create and evaluate a binary [classification model](https://developers.google.com/machine-learning/glossary/#classification_model).  That is, you'll create a model that answers a binary question. In this exercise, the binary question will be, \"Are houses in this neighborhood above a certain price?\"\n",
        "\n",
        "\n",
        "\n"
      ]
    },
    {
      "cell_type": "markdown",
      "metadata": {
        "id": "yuw8rRl9lNuL"
      },
      "source": [
        "## Learning Objectives:\n",
        "\n",
        "After doing this Colab, you'll know how to:\n",
        "\n",
        "  * Convert a regression question into a classification question.\n",
        "  * Modify the classification threshold and determine how that modification influences the model.\n",
        "  * Experiment with different classification metrics to determine your model's effectiveness."
      ]
    },
    {
      "cell_type": "markdown",
      "metadata": {
        "id": "44OdC-OglN9D"
      },
      "source": [
        "## The Dataset\n",
        "  \n",
        "Like several of the previous Colabs, this Colab uses the [California Housing Dataset](https://developers.google.com/machine-learning/crash-course/california-housing-data-description)."
      ]
    },
    {
      "cell_type": "markdown",
      "metadata": {
        "id": "5iuw6-JOGf7I"
      },
      "source": [
        "## Call the import statements\n",
        "\n",
        "The following code imports the necessary modules."
      ]
    },
    {
      "cell_type": "code",
      "execution_count": 1,
      "metadata": {
        "cellView": "form",
        "id": "9n9_cTveKmse"
      },
      "outputs": [
        {
          "name": "stdout",
          "output_type": "stream",
          "text": [
            "WARNING:tensorflow:From C:\\Users\\nickl\\AppData\\Local\\Packages\\PythonSoftwareFoundation.Python.3.11_qbz5n2kfra8p0\\LocalCache\\local-packages\\Python311\\site-packages\\keras\\src\\losses.py:2976: The name tf.losses.sparse_softmax_cross_entropy is deprecated. Please use tf.compat.v1.losses.sparse_softmax_cross_entropy instead.\n",
            "\n",
            "Ran the import statements.\n"
          ]
        }
      ],
      "source": [
        "#@title Load the imports\n",
        "\n",
        "import numpy as np\n",
        "import pandas as pd\n",
        "import tensorflow as tf\n",
        "from tensorflow.keras import layers\n",
        "from matplotlib import pyplot as plt\n",
        "\n",
        "# The following lines adjust the granularity of reporting.\n",
        "pd.options.display.max_rows = 10\n",
        "pd.options.display.float_format = \"{:.1f}\".format\n",
        "# tf.keras.backend.set_floatx('float32')\n",
        "\n",
        "print(\"Ran the import statements.\")"
      ]
    },
    {
      "cell_type": "markdown",
      "metadata": {
        "id": "X_TaJhU4KcuY"
      },
      "source": [
        "## Load the datasets from the internet\n",
        "\n",
        "The following code cell loads the separate .csv files and creates the following two pandas DataFrames:\n",
        "\n",
        "* `train_df`, which contains the training set\n",
        "* `test_df`, which contains the test set"
      ]
    },
    {
      "cell_type": "code",
      "execution_count": 2,
      "metadata": {
        "id": "JZlvdpyYKx7V"
      },
      "outputs": [],
      "source": [
        "train_df = pd.read_csv(\"https://download.mlcc.google.com/mledu-datasets/california_housing_train.csv\")\n",
        "test_df = pd.read_csv(\"https://download.mlcc.google.com/mledu-datasets/california_housing_test.csv\")\n",
        "train_df = train_df.reindex(np.random.permutation(train_df.index)) # shuffle the training set"
      ]
    },
    {
      "cell_type": "markdown",
      "metadata": {
        "id": "q_vuAQq0Cvrp"
      },
      "source": [
        "Unlike some of the previous Colabs, the preceding code cell did not scale the label (`median_house_value`).  The following section (\"Normalize values\") provides an alternative approach."
      ]
    },
    {
      "cell_type": "markdown",
      "metadata": {
        "id": "_G6y-XcEmk6r"
      },
      "source": [
        "## Normalize values\n",
        "\n",
        "When creating a model with multiple features, the values of each feature should cover roughly the same range.  For example, if one feature's range spans 500 to 100,000 and another feature's range spans 2 to 12, then the model will be difficult or impossible to train. Therefore, you should\n",
        "[normalize](https://developers.google.com/machine-learning/glossary/#normalization) features in a multi-feature model.\n",
        "\n",
        "The following code cell normalizes datasets by converting each raw value (including the label) to its Z-score. A **Z-score** is the number of standard deviations from the mean for a particular raw value. For example, consider a feature having the following characteristics:\n",
        "\n",
        "  * The mean is 60.\n",
        "  * The standard deviation is 10.\n",
        "\n",
        "The raw value 75 would have a Z-score of +1.5:\n",
        "\n",
        "```\n",
        "  Z-score = (75 - 60) / 10 = +1.5\n",
        "```\n",
        "\n",
        "The raw value 38 would have a Z-score of -2.2:\n",
        "\n",
        "```\n",
        "  Z-score = (38 - 60) / 10 = -2.2\n",
        "```"
      ]
    },
    {
      "cell_type": "code",
      "execution_count": 3,
      "metadata": {
        "id": "n7nuAHoZIgVI"
      },
      "outputs": [
        {
          "data": {
            "text/html": [
              "<div>\n",
              "<style scoped>\n",
              "    .dataframe tbody tr th:only-of-type {\n",
              "        vertical-align: middle;\n",
              "    }\n",
              "\n",
              "    .dataframe tbody tr th {\n",
              "        vertical-align: top;\n",
              "    }\n",
              "\n",
              "    .dataframe thead th {\n",
              "        text-align: right;\n",
              "    }\n",
              "</style>\n",
              "<table border=\"1\" class=\"dataframe\">\n",
              "  <thead>\n",
              "    <tr style=\"text-align: right;\">\n",
              "      <th></th>\n",
              "      <th>longitude</th>\n",
              "      <th>latitude</th>\n",
              "      <th>housing_median_age</th>\n",
              "      <th>total_rooms</th>\n",
              "      <th>total_bedrooms</th>\n",
              "      <th>population</th>\n",
              "      <th>households</th>\n",
              "      <th>median_income</th>\n",
              "      <th>median_house_value</th>\n",
              "    </tr>\n",
              "  </thead>\n",
              "  <tbody>\n",
              "    <tr>\n",
              "      <th>965</th>\n",
              "      <td>1.2</td>\n",
              "      <td>-1.4</td>\n",
              "      <td>0.8</td>\n",
              "      <td>-0.6</td>\n",
              "      <td>-0.7</td>\n",
              "      <td>-0.6</td>\n",
              "      <td>-0.7</td>\n",
              "      <td>-0.9</td>\n",
              "      <td>-0.9</td>\n",
              "    </tr>\n",
              "    <tr>\n",
              "      <th>4495</th>\n",
              "      <td>0.8</td>\n",
              "      <td>-0.8</td>\n",
              "      <td>0.5</td>\n",
              "      <td>-0.3</td>\n",
              "      <td>-0.4</td>\n",
              "      <td>-0.2</td>\n",
              "      <td>-0.4</td>\n",
              "      <td>0.7</td>\n",
              "      <td>-0.3</td>\n",
              "    </tr>\n",
              "    <tr>\n",
              "      <th>5559</th>\n",
              "      <td>0.7</td>\n",
              "      <td>-0.8</td>\n",
              "      <td>1.1</td>\n",
              "      <td>-0.2</td>\n",
              "      <td>-0.3</td>\n",
              "      <td>-0.1</td>\n",
              "      <td>-0.3</td>\n",
              "      <td>-0.4</td>\n",
              "      <td>-0.3</td>\n",
              "    </tr>\n",
              "    <tr>\n",
              "      <th>4762</th>\n",
              "      <td>0.7</td>\n",
              "      <td>-0.9</td>\n",
              "      <td>-0.2</td>\n",
              "      <td>0.2</td>\n",
              "      <td>0.6</td>\n",
              "      <td>-0.4</td>\n",
              "      <td>0.6</td>\n",
              "      <td>-1.0</td>\n",
              "      <td>-1.2</td>\n",
              "    </tr>\n",
              "    <tr>\n",
              "      <th>2174</th>\n",
              "      <td>1.1</td>\n",
              "      <td>-1.1</td>\n",
              "      <td>0.0</td>\n",
              "      <td>-0.6</td>\n",
              "      <td>-0.5</td>\n",
              "      <td>-0.0</td>\n",
              "      <td>-0.5</td>\n",
              "      <td>-1.0</td>\n",
              "      <td>-0.9</td>\n",
              "    </tr>\n",
              "  </tbody>\n",
              "</table>\n",
              "</div>"
            ],
            "text/plain": [
              "      longitude  latitude  housing_median_age  total_rooms  total_bedrooms  \\\n",
              "965         1.2      -1.4                 0.8         -0.6            -0.7   \n",
              "4495        0.8      -0.8                 0.5         -0.3            -0.4   \n",
              "5559        0.7      -0.8                 1.1         -0.2            -0.3   \n",
              "4762        0.7      -0.9                -0.2          0.2             0.6   \n",
              "2174        1.1      -1.1                 0.0         -0.6            -0.5   \n",
              "\n",
              "      population  households  median_income  median_house_value  \n",
              "965         -0.6        -0.7           -0.9                -0.9  \n",
              "4495        -0.2        -0.4            0.7                -0.3  \n",
              "5559        -0.1        -0.3           -0.4                -0.3  \n",
              "4762        -0.4         0.6           -1.0                -1.2  \n",
              "2174        -0.0        -0.5           -1.0                -0.9  "
            ]
          },
          "execution_count": 3,
          "metadata": {},
          "output_type": "execute_result"
        }
      ],
      "source": [
        "# Calculate the Z-scores of each column in the training set and\n",
        "# write those Z-scores into a new pandas DataFrame named train_df_norm.\n",
        "train_df_mean = train_df.mean()\n",
        "train_df_std = train_df.std()\n",
        "train_df_norm = (train_df - train_df_mean)/train_df_std\n",
        "\n",
        "# Examine some of the values of the normalized training set. Notice that most\n",
        "# Z-scores fall between -2 and +2.\n",
        "train_df_norm.head()"
      ]
    },
    {
      "cell_type": "code",
      "execution_count": 4,
      "metadata": {
        "id": "QoW-59jVFF2I"
      },
      "outputs": [],
      "source": [
        "# Calculate the Z-scores of each column in the test set and\n",
        "# write those Z-scores into a new pandas DataFrame named test_df_norm.\n",
        "test_df_norm = (test_df - train_df_mean) / train_df_std\n",
        "\n",
        "# Note that we transform the test data with the values calculated from the training set,\n",
        "# as you should always transform your datasets with exactly the same values."
      ]
    },
    {
      "cell_type": "markdown",
      "metadata": {
        "id": "-swmXtWnZGis"
      },
      "source": [
        "## Task 1: Create a binary label\n",
        "\n",
        "In classification problems, the label for every example must be either 0 or 1. Unfortunately, the natural label in the California Housing Dataset, `median_house_value`, contains floating-point values like 80,100 or 85,700 rather than 0s and 1s, while the normalized version of `median_house_values` contains floating-point values primarily between -3 and +3.\n",
        "\n",
        "Your task is to create a new column named `median_house_value_is_high` in both the training set and the test set . If the `median_house_value` is higher than a certain arbitrary value (defined by `threshold`), then set `median_house_value_is_high` to 1. Otherwise, set `median_house_value_is_high` to 0.\n",
        "\n",
        "**Hint:** The cells in the `median_house_value_is_high` column must each hold `1` and `0`, not `True` and `False`. To convert `True` and `False` to  `1` and `0`, call the pandas DataFrame function `astype(float)`."
      ]
    },
    {
      "cell_type": "code",
      "execution_count": 5,
      "metadata": {
        "id": "d4kWfWA8bhKW"
      },
      "outputs": [
        {
          "data": {
            "text/plain": [
              "965     0.0\n",
              "4495    0.0\n",
              "5559    0.0\n",
              "4762    0.0\n",
              "2174    0.0\n",
              "         ..\n",
              "3071    1.0\n",
              "15488   0.0\n",
              "868     0.0\n",
              "9142    0.0\n",
              "591     0.0\n",
              "Name: median_house_value_is_high, Length: 8000, dtype: float64"
            ]
          },
          "execution_count": 5,
          "metadata": {},
          "output_type": "execute_result"
        }
      ],
      "source": [
        "threshold = 265000 # This is the 75th percentile for median house values.\n",
        "train_df_norm[\"median_house_value_is_high\"] = (train_df[\"median_house_value\"] > threshold).astype(float)\n",
        "test_df_norm[\"median_house_value_is_high\"] = (test_df[\"median_house_value\"] > threshold).astype(float)\n",
        "\n",
        "# Print out a few example cells from the beginning and\n",
        "# middle of the training set, just to make sure that\n",
        "# your code created only 0s and 1s in the newly created\n",
        "# median_house_value_is_high column\n",
        "train_df_norm[\"median_house_value_is_high\"].head(8000)"
      ]
    },
    {
      "cell_type": "code",
      "execution_count": 6,
      "metadata": {
        "id": "b8b2fNmHO-iU"
      },
      "outputs": [
        {
          "data": {
            "text/plain": [
              "965     0.0\n",
              "4495    0.0\n",
              "5559    0.0\n",
              "4762    0.0\n",
              "2174    0.0\n",
              "         ..\n",
              "3071    1.0\n",
              "15488   0.0\n",
              "868     0.0\n",
              "9142    0.0\n",
              "591     0.0\n",
              "Name: median_house_value_is_high, Length: 8000, dtype: float64"
            ]
          },
          "execution_count": 6,
          "metadata": {},
          "output_type": "execute_result"
        }
      ],
      "source": [
        "#@title Double-click for possible solutions.\n",
        "\n",
        "# We arbitrarily set the threshold to 265,000, which is\n",
        "# the 75th percentile for median house values.  Every neighborhood\n",
        "# with a median house price above 265,000 will be labeled 1,\n",
        "# and all other neighborhoods will be labeled 0.\n",
        "threshold = 265000\n",
        "train_df_norm[\"median_house_value_is_high\"] = (train_df[\"median_house_value\"] > threshold).astype(float)\n",
        "test_df_norm[\"median_house_value_is_high\"] = (test_df[\"median_house_value\"] > threshold).astype(float)\n",
        "train_df_norm[\"median_house_value_is_high\"].head(8000)\n",
        "\n",
        "\n",
        "# Alternatively, instead of picking the threshold\n",
        "# based on raw house values, you can work with Z-scores.\n",
        "# For example, the following possible solution uses a Z-score\n",
        "# of +1.0 as the threshold, meaning that no more\n",
        "# than 16% of the values in median_house_value_is_high\n",
        "# will be labeled 1.\n",
        "\n",
        "# threshold_in_Z = 1.0\n",
        "# train_df_norm[\"median_house_value_is_high\"] = (train_df_norm[\"median_house_value\"] > threshold_in_Z).astype(float)\n",
        "# test_df_norm[\"median_house_value_is_high\"] = (test_df_norm[\"median_house_value\"] > threshold_in_Z).astype(float)\n"
      ]
    },
    {
      "cell_type": "markdown",
      "metadata": {
        "id": "8kir8UTUXSV8"
      },
      "source": [
        "## Represent features as input layers\n",
        "\n",
        "This code cell specifies the features, `median_income` and ` total_rooms`, that you'll ultimately train the model on. These [Input](https://www.tensorflow.org/api_docs/python/tf/keras/Input) objects are instantiated as Keras tensors."
      ]
    },
    {
      "cell_type": "code",
      "execution_count": 7,
      "metadata": {
        "id": "3tmmZIDw4JEC"
      },
      "outputs": [
        {
          "name": "stdout",
          "output_type": "stream",
          "text": [
            "WARNING:tensorflow:From C:\\Users\\nickl\\AppData\\Local\\Packages\\PythonSoftwareFoundation.Python.3.11_qbz5n2kfra8p0\\LocalCache\\local-packages\\Python311\\site-packages\\keras\\src\\backend.py:1398: The name tf.executing_eagerly_outside_functions is deprecated. Please use tf.compat.v1.executing_eagerly_outside_functions instead.\n",
            "\n"
          ]
        }
      ],
      "source": [
        "inputs = {\n",
        "# Features used to train the model on.\n",
        "  'median_income': tf.keras.Input(shape=(1,)),\n",
        "  'total_rooms': tf.keras.Input(shape=(1,))\n",
        "}\n"
      ]
    },
    {
      "cell_type": "markdown",
      "metadata": {
        "id": "3014ezH3C7jT"
      },
      "source": [
        "## Define functions that build and train a model\n",
        "\n",
        "The following code cell defines two functions:\n",
        "\n",
        "  * `create_model(inputs, learning_rate, METRICS)`, which defines the model's\n",
        "    topography.\n",
        "  * `train_model(model, dataset, epochs, label_name, batch_size, shuffle)`, uses input features and labels to train the model.\n",
        "\n",
        "Prior exercises used [ReLU](https://developers.google.com/machine-learning/glossary#ReLU) as the [activation function](https://developers.google.com/machine-learning/glossary#activation-function). By contrast, this exercise uses [sigmoid](https://developers.google.com/machine-learning/glossary#sigmoid-function) as the activation function."
      ]
    },
    {
      "cell_type": "code",
      "execution_count": 8,
      "metadata": {
        "id": "pedD5GhlDC-y"
      },
      "outputs": [
        {
          "name": "stdout",
          "output_type": "stream",
          "text": [
            "Defined the create_model and train_model functions.\n"
          ]
        }
      ],
      "source": [
        "#@title Define the functions that create and train a model.\n",
        "def create_model(my_inputs, my_learning_rate, METRICS):\n",
        "  # Use a Concatenate layer to concatenate the input layers into a single tensor.\n",
        "  # as input for the Dense layer. Ex: [input_1[0][0], input_2[0][0]]\n",
        "  concatenated_inputs = tf.keras.layers.Concatenate()(my_inputs.values())\n",
        "  dense = layers.Dense(units=1, name='dense_layer', activation=tf.sigmoid)\n",
        "  dense_output = dense(concatenated_inputs)\n",
        "  \"\"\"Create and compile a simple classification model.\"\"\"\n",
        "  my_outputs = {\n",
        "    'dense': dense_output,\n",
        "  }\n",
        "  model = tf.keras.Model(inputs=my_inputs, outputs=my_outputs)\n",
        "\n",
        "  # Call the compile method to construct the layers into a model that\n",
        "  # TensorFlow can execute.  Notice that we're using a different loss\n",
        "  # function for classification than for regression.\n",
        "  model.compile(optimizer=tf.keras.optimizers.experimental.RMSprop(learning_rate=my_learning_rate),\n",
        "                loss=tf.keras.losses.BinaryCrossentropy(),\n",
        "                metrics=METRICS)\n",
        "  return model\n",
        "\n",
        "\n",
        "def train_model(model, dataset, epochs, label_name,\n",
        "                batch_size=None, shuffle=True):\n",
        "  \"\"\"Feed a dataset into the model in order to train it.\"\"\"\n",
        "\n",
        "  # The x parameter of tf.keras.Model.fit can be a list of arrays, where\n",
        "  # each array contains the data for one feature.  Here, we're passing\n",
        "  # every column in the dataset. Note that the feature_layer will filter\n",
        "  # away most of those columns, leaving only the desired columns and their\n",
        "  # representations as features.\n",
        "  features = {name:np.array(value) for name, value in dataset.items()}\n",
        "  label = np.array(features.pop(label_name))\n",
        "  history = model.fit(x=features, y=label, batch_size=batch_size,\n",
        "                      epochs=epochs, shuffle=shuffle)\n",
        "\n",
        "  # The list of epochs is stored separately from the rest of history.\n",
        "  epochs = history.epoch\n",
        "\n",
        "  # Isolate the classification metric for each epoch.\n",
        "  hist = pd.DataFrame(history.history)\n",
        "\n",
        "  return epochs, hist\n",
        "\n",
        "print(\"Defined the create_model and train_model functions.\")"
      ]
    },
    {
      "cell_type": "markdown",
      "metadata": {
        "id": "Ak_TMAzGOIFq"
      },
      "source": [
        "## Define a plotting function\n",
        "\n",
        "The following [matplotlib](https://developers.google.com/machine-learning/glossary/#matplotlib) function plots one or more curves, showing how various classification metrics change with each epoch."
      ]
    },
    {
      "cell_type": "code",
      "execution_count": 9,
      "metadata": {
        "cellView": "form",
        "id": "QF0BFRXTOeR3"
      },
      "outputs": [
        {
          "name": "stdout",
          "output_type": "stream",
          "text": [
            "Defined the plot_curve function.\n"
          ]
        }
      ],
      "source": [
        "#@title Define the plotting function.\n",
        "def plot_curve(epochs, hist, list_of_metrics):\n",
        "  \"\"\"Plot a curve of one or more classification metrics vs. epoch.\"\"\"\n",
        "  # list_of_metrics should be one of the names shown in:\n",
        "  # https://www.tensorflow.org/tutorials/structured_data/imbalanced_data#define_the_model_and_metrics\n",
        "\n",
        "  plt.figure()\n",
        "  plt.xlabel(\"Epoch\")\n",
        "  plt.ylabel(\"Value\")\n",
        "\n",
        "  for m in list_of_metrics:\n",
        "    x = hist[m]\n",
        "    plt.plot(epochs[1:], x[1:], label=m)\n",
        "\n",
        "  plt.legend()\n",
        "\n",
        "print(\"Defined the plot_curve function.\")"
      ]
    },
    {
      "cell_type": "markdown",
      "metadata": {
        "id": "D-IXYVfvM4gD"
      },
      "source": [
        "## Invoke the creating, training, and plotting functions\n",
        "\n",
        "The following code cell calls specify the hyperparameters, and then invokes the\n",
        "functions to create and train the model, and then to plot the results."
      ]
    },
    {
      "cell_type": "code",
      "execution_count": 10,
      "metadata": {
        "cellView": "both",
        "id": "nj3v5EKQFY8s"
      },
      "outputs": [
        {
          "name": "stdout",
          "output_type": "stream",
          "text": [
            "Epoch 1/20\n",
            "WARNING:tensorflow:From C:\\Users\\nickl\\AppData\\Local\\Packages\\PythonSoftwareFoundation.Python.3.11_qbz5n2kfra8p0\\LocalCache\\local-packages\\Python311\\site-packages\\keras\\src\\utils\\tf_utils.py:492: The name tf.ragged.RaggedTensorValue is deprecated. Please use tf.compat.v1.ragged.RaggedTensorValue instead.\n",
            "\n"
          ]
        },
        {
          "name": "stderr",
          "output_type": "stream",
          "text": [
            "C:\\Users\\nickl\\AppData\\Local\\Packages\\PythonSoftwareFoundation.Python.3.11_qbz5n2kfra8p0\\LocalCache\\local-packages\\Python311\\site-packages\\keras\\src\\engine\\functional.py:642: UserWarning: Input dict contained keys ['longitude', 'latitude', 'housing_median_age', 'total_bedrooms', 'population', 'households', 'median_house_value'] which did not match any model input. They will be ignored by the model.\n",
            "  inputs = self._flatten_to_reference_inputs(inputs)\n"
          ]
        },
        {
          "name": "stdout",
          "output_type": "stream",
          "text": [
            "170/170 [==============================] - 0s 684us/step - loss: 0.9981 - accuracy: 0.2144\n",
            "Epoch 2/20\n",
            "170/170 [==============================] - 0s 625us/step - loss: 0.8706 - accuracy: 0.2170\n",
            "Epoch 3/20\n",
            "170/170 [==============================] - 0s 625us/step - loss: 0.7610 - accuracy: 0.2238\n",
            "Epoch 4/20\n",
            "170/170 [==============================] - 0s 790us/step - loss: 0.6705 - accuracy: 0.2602\n",
            "Epoch 5/20\n",
            "170/170 [==============================] - 0s 672us/step - loss: 0.6001 - accuracy: 0.5907\n",
            "Epoch 6/20\n",
            "170/170 [==============================] - 0s 631us/step - loss: 0.5473 - accuracy: 0.7699\n",
            "Epoch 7/20\n",
            "170/170 [==============================] - 0s 631us/step - loss: 0.5085 - accuracy: 0.8082\n",
            "Epoch 8/20\n",
            "170/170 [==============================] - 0s 625us/step - loss: 0.4797 - accuracy: 0.8220\n",
            "Epoch 9/20\n",
            "170/170 [==============================] - 0s 625us/step - loss: 0.4569 - accuracy: 0.8251\n",
            "Epoch 10/20\n",
            "170/170 [==============================] - 0s 625us/step - loss: 0.4390 - accuracy: 0.8240\n",
            "Epoch 11/20\n",
            "170/170 [==============================] - 0s 625us/step - loss: 0.4255 - accuracy: 0.8198\n",
            "Epoch 12/20\n",
            "170/170 [==============================] - 0s 625us/step - loss: 0.4153 - accuracy: 0.8167\n",
            "Epoch 13/20\n",
            "170/170 [==============================] - 0s 625us/step - loss: 0.4078 - accuracy: 0.8137\n",
            "Epoch 14/20\n",
            "170/170 [==============================] - 0s 625us/step - loss: 0.4029 - accuracy: 0.8119\n",
            "Epoch 15/20\n",
            "170/170 [==============================] - 0s 661us/step - loss: 0.4000 - accuracy: 0.8100\n",
            "Epoch 16/20\n",
            "170/170 [==============================] - 0s 631us/step - loss: 0.3984 - accuracy: 0.8089\n",
            "Epoch 17/20\n",
            "170/170 [==============================] - 0s 613us/step - loss: 0.3976 - accuracy: 0.8086\n",
            "Epoch 18/20\n",
            "170/170 [==============================] - 0s 625us/step - loss: 0.3971 - accuracy: 0.8086\n",
            "Epoch 19/20\n",
            "170/170 [==============================] - 0s 625us/step - loss: 0.3969 - accuracy: 0.8089\n",
            "Epoch 20/20\n",
            "170/170 [==============================] - 0s 613us/step - loss: 0.3968 - accuracy: 0.8092\n"
          ]
        },
        {
          "data": {
            "image/png": "[encoded data removed]",
            "text/plain": [
              "<Figure size 640x480 with 1 Axes>"
            ]
          },
          "metadata": {},
          "output_type": "display_data"
        }
      ],
      "source": [
        "# The following variables are the hyperparameters.\n",
        "learning_rate = 0.001\n",
        "epochs = 20\n",
        "batch_size = 100\n",
        "label_name = \"median_house_value_is_high\"\n",
        "classification_threshold = 0.35\n",
        "\n",
        "# Establish the metrics the model will measure.\n",
        "METRICS = [\n",
        "           tf.keras.metrics.BinaryAccuracy(name='accuracy',\n",
        "                                           threshold=classification_threshold),\n",
        "          ]\n",
        "\n",
        "# Establish the model's topography.\n",
        "my_model = create_model(inputs, learning_rate, METRICS)\n",
        "\n",
        "# To view a PNG of this model's layers, uncomment the call to\n",
        "# `tf.keras.utils.plot_model` below. After running this code cell, click\n",
        "# the file folder on the left, then the `my_classification_model.png` file.\n",
        "# tf.keras.utils.plot_model(my_model, \"my_classification_model.png\")\n",
        "\n",
        "# Train the model on the training set.\n",
        "epochs, hist = train_model(my_model, train_df_norm, epochs,\n",
        "                           label_name, batch_size)\n",
        "\n",
        "# Plot a graph of the metric(s) vs. epochs.\n",
        "list_of_metrics_to_plot = ['accuracy']\n",
        "\n",
        "plot_curve(epochs, hist, list_of_metrics_to_plot)"
      ]
    },
    {
      "cell_type": "markdown",
      "metadata": {
        "id": "FF64TpqkbOpn"
      },
      "source": [
        "Accuracy should gradually improve during training (until it can\n",
        "improve no more)."
      ]
    },
    {
      "cell_type": "markdown",
      "metadata": {
        "id": "1xNqWWos_zyk"
      },
      "source": [
        "## Evaluate the model against the test set\n",
        "\n",
        "At the end of model training, you ended up with a certain accuracy against the *training set*. Invoke the following code cell to determine your model's accuracy against the *test set*."
      ]
    },
    {
      "cell_type": "code",
      "execution_count": 11,
      "metadata": {
        "id": "eJorkMlDmtHf"
      },
      "outputs": [
        {
          "name": "stdout",
          "output_type": "stream",
          "text": [
            "30/30 [==============================] - 0s 653us/step - loss: 0.4069 - accuracy: 0.8040\n"
          ]
        },
        {
          "data": {
            "text/plain": [
              "[0.40693527460098267, 0.8040000200271606]"
            ]
          },
          "execution_count": 11,
          "metadata": {},
          "output_type": "execute_result"
        }
      ],
      "source": [
        "features = {name:np.array(value) for name, value in test_df_norm.items()}\n",
        "label = np.array(features.pop(label_name))\n",
        "\n",
        "my_model.evaluate(x = features, y = label, batch_size=batch_size)"
      ]
    },
    {
      "cell_type": "markdown",
      "metadata": {
        "id": "q7cHkFXalXV5"
      },
      "source": [
        "## Task 2: How accurate is your model really?\n",
        "\n",
        "Is your model valuable?"
      ]
    },
    {
      "cell_type": "code",
      "execution_count": null,
      "metadata": {
        "id": "rUvCrQkulwjV"
      },
      "outputs": [],
      "source": [
        "#@title Double-click for a possible answer to Task 2.\n",
        "\n",
        "# A perfect model would make 100% accurate predictions.\n",
        "# Our model makes 80% accurate predictions. 80% sounds\n",
        "# good, but note that a model that always guesses\n",
        "# \"median_house_value_is_high is False\" would be 75%\n",
        "# accurate."
      ]
    },
    {
      "cell_type": "markdown",
      "metadata": {
        "id": "C8crSCCVf6gm"
      },
      "source": [
        "## Task 3: Add precision and recall as metrics\n",
        "\n",
        "Relying solely on accuracy, particularly for a class-imbalanced data set (like ours), can be a poor way to judge a classification model.  Modify the code in the following code cell to enable the model to measure not only accuracy but also precision and recall. We have\n",
        "added accuracy and precision; your task is to add recall. See the [TensorFlow Reference](https://www.tensorflow.org/api_docs/python/tf/keras/metrics/Recall) for details.\n",
        "\n"
      ]
    },
    {
      "cell_type": "code",
      "execution_count": 13,
      "metadata": {
        "id": "r-k1MD2XArmO"
      },
      "outputs": [
        {
          "name": "stdout",
          "output_type": "stream",
          "text": [
            "Epoch 1/20\n"
          ]
        },
        {
          "name": "stderr",
          "output_type": "stream",
          "text": [
            "C:\\Users\\nickl\\AppData\\Local\\Packages\\PythonSoftwareFoundation.Python.3.11_qbz5n2kfra8p0\\LocalCache\\local-packages\\Python311\\site-packages\\keras\\src\\engine\\functional.py:642: UserWarning: Input dict contained keys ['longitude', 'latitude', 'housing_median_age', 'total_bedrooms', 'population', 'households', 'median_house_value'] which did not match any model input. They will be ignored by the model.\n",
            "  inputs = self._flatten_to_reference_inputs(inputs)\n"
          ]
        },
        {
          "name": "stdout",
          "output_type": "stream",
          "text": [
            "170/170 [==============================] - 0s 837us/step - loss: 0.8640 - accuracy: 0.1951 - precision: 0.1656 - recall: 0.5503\n",
            "Epoch 2/20\n",
            "170/170 [==============================] - 0s 714us/step - loss: 0.7535 - accuracy: 0.1899 - precision: 0.1659 - recall: 0.5569\n",
            "Epoch 3/20\n",
            "170/170 [==============================] - 0s 678us/step - loss: 0.6630 - accuracy: 0.1771 - precision: 0.1689 - recall: 0.5854\n",
            "Epoch 4/20\n",
            "170/170 [==============================] - 0s 666us/step - loss: 0.5931 - accuracy: 0.3954 - precision: 0.2464 - recall: 0.6899\n",
            "Epoch 5/20\n",
            "170/170 [==============================] - 0s 814us/step - loss: 0.5407 - accuracy: 0.7872 - precision: 0.5800 - recall: 0.5371\n",
            "Epoch 6/20\n",
            "170/170 [==============================] - 0s 672us/step - loss: 0.5015 - accuracy: 0.8111 - precision: 0.6537 - recall: 0.5182\n",
            "Epoch 7/20\n",
            "170/170 [==============================] - 0s 678us/step - loss: 0.4722 - accuracy: 0.8201 - precision: 0.6852 - recall: 0.5175\n",
            "Epoch 8/20\n",
            "170/170 [==============================] - 0s 661us/step - loss: 0.4502 - accuracy: 0.8221 - precision: 0.6821 - recall: 0.5390\n",
            "Epoch 9/20\n",
            "170/170 [==============================] - 0s 714us/step - loss: 0.4337 - accuracy: 0.8211 - precision: 0.6693 - recall: 0.5609\n",
            "Epoch 10/20\n",
            "170/170 [==============================] - 0s 702us/step - loss: 0.4212 - accuracy: 0.8183 - precision: 0.6551 - recall: 0.5757\n",
            "Epoch 11/20\n",
            "170/170 [==============================] - 0s 678us/step - loss: 0.4120 - accuracy: 0.8141 - precision: 0.6371 - recall: 0.5943\n",
            "Epoch 12/20\n",
            "170/170 [==============================] - 0s 666us/step - loss: 0.4056 - accuracy: 0.8126 - precision: 0.6318 - recall: 0.5995\n",
            "Epoch 13/20\n",
            "170/170 [==============================] - 0s 708us/step - loss: 0.4016 - accuracy: 0.8112 - precision: 0.6261 - recall: 0.6061\n",
            "Epoch 14/20\n",
            "170/170 [==============================] - 0s 702us/step - loss: 0.3992 - accuracy: 0.8098 - precision: 0.6212 - recall: 0.6117\n",
            "Epoch 15/20\n",
            "170/170 [==============================] - 0s 690us/step - loss: 0.3980 - accuracy: 0.8096 - precision: 0.6204 - recall: 0.6127\n",
            "Epoch 16/20\n",
            "170/170 [==============================] - 0s 784us/step - loss: 0.3973 - accuracy: 0.8095 - precision: 0.6199 - recall: 0.6143\n",
            "Epoch 17/20\n",
            "170/170 [==============================] - 0s 672us/step - loss: 0.3970 - accuracy: 0.8086 - precision: 0.6174 - recall: 0.6153\n",
            "Epoch 18/20\n",
            "170/170 [==============================] - 0s 731us/step - loss: 0.3968 - accuracy: 0.8087 - precision: 0.6178 - recall: 0.6146\n",
            "Epoch 19/20\n",
            "170/170 [==============================] - 0s 702us/step - loss: 0.3967 - accuracy: 0.8091 - precision: 0.6190 - recall: 0.6136\n",
            "Epoch 20/20\n",
            "170/170 [==============================] - 0s 678us/step - loss: 0.3967 - accuracy: 0.8094 - precision: 0.6194 - recall: 0.6143\n"
          ]
        },
        {
          "data": {
            "image/png": "[encoded data removed]",
            "text/plain": [
              "<Figure size 640x480 with 1 Axes>"
            ]
          },
          "metadata": {},
          "output_type": "display_data"
        }
      ],
      "source": [
        "# The following variables are the hyperparameters.\n",
        "learning_rate = 0.001\n",
        "epochs = 20\n",
        "batch_size = 100\n",
        "classification_threshold = 0.35\n",
        "label_name = \"median_house_value_is_high\"\n",
        "\n",
        "# Modify the following definition of METRICS to generate\n",
        "# not only accuracy and precision, but also recall:\n",
        "METRICS = [\n",
        "      tf.keras.metrics.BinaryAccuracy(name='accuracy',\n",
        "                                      threshold=classification_threshold),\n",
        "      tf.keras.metrics.Precision(thresholds=classification_threshold,\n",
        "                                 name='precision'\n",
        "                                 ),\n",
        "      tf.keras.metrics.Recall(thresholds=classification_threshold,\n",
        "                                 name='recall'\n",
        "                                 )\n",
        "]\n",
        "\n",
        "# Establish the model's topography.\n",
        "my_model = create_model(inputs, learning_rate, METRICS)\n",
        "\n",
        "# Train the model on the training set.\n",
        "epochs, hist = train_model(my_model, train_df_norm, epochs,\n",
        "                           label_name, batch_size)\n",
        "\n",
        "# Plot metrics vs. epochs\n",
        "list_of_metrics_to_plot = ['accuracy', 'precision', 'recall']\n",
        "plot_curve(epochs, hist, list_of_metrics_to_plot)"
      ]
    },
    {
      "cell_type": "code",
      "execution_count": 14,
      "metadata": {
        "cellView": "form",
        "id": "Ax87gOyDBhAu"
      },
      "outputs": [
        {
          "name": "stdout",
          "output_type": "stream",
          "text": [
            "Epoch 1/20\n",
            "170/170 [==============================] - 0s 678us/step - loss: 0.5696 - accuracy: 0.3994 - precision: 0.2904 - recall: 0.9727\n",
            "Epoch 2/20\n",
            "170/170 [==============================] - 0s 678us/step - loss: 0.5192 - accuracy: 0.5684 - precision: 0.3585 - recall: 0.9218\n",
            "Epoch 3/20\n",
            "170/170 [==============================] - 0s 661us/step - loss: 0.4811 - accuracy: 0.6608 - precision: 0.4136 - recall: 0.8566\n",
            "Epoch 4/20\n",
            "170/170 [==============================] - 0s 702us/step - loss: 0.4526 - accuracy: 0.7142 - precision: 0.4585 - recall: 0.7959\n",
            "Epoch 5/20\n",
            "170/170 [==============================] - 0s 649us/step - loss: 0.4323 - accuracy: 0.7468 - precision: 0.4954 - recall: 0.7431\n",
            "Epoch 6/20\n",
            "170/170 [==============================] - 0s 660us/step - loss: 0.4175 - accuracy: 0.7715 - precision: 0.5322 - recall: 0.7040\n",
            "Epoch 7/20\n",
            "170/170 [==============================] - 0s 672us/step - loss: 0.4078 - accuracy: 0.7870 - precision: 0.5612 - recall: 0.6760\n",
            "Epoch 8/20\n",
            "170/170 [==============================] - 0s 678us/step - loss: 0.4024 - accuracy: 0.7961 - precision: 0.5819 - recall: 0.6522\n",
            "Epoch 9/20\n",
            "170/170 [==============================] - 0s 666us/step - loss: 0.3994 - accuracy: 0.8024 - precision: 0.5982 - recall: 0.6369\n",
            "Epoch 10/20\n",
            "170/170 [==============================] - 0s 655us/step - loss: 0.3979 - accuracy: 0.8059 - precision: 0.6081 - recall: 0.6280\n",
            "Epoch 11/20\n",
            "170/170 [==============================] - 0s 666us/step - loss: 0.3973 - accuracy: 0.8074 - precision: 0.6141 - recall: 0.6167\n",
            "Epoch 12/20\n",
            "170/170 [==============================] - 0s 655us/step - loss: 0.3970 - accuracy: 0.8075 - precision: 0.6143 - recall: 0.6169\n",
            "Epoch 13/20\n",
            "170/170 [==============================] - 0s 714us/step - loss: 0.3968 - accuracy: 0.8081 - precision: 0.6160 - recall: 0.6160\n",
            "Epoch 14/20\n",
            "170/170 [==============================] - 0s 678us/step - loss: 0.3967 - accuracy: 0.8092 - precision: 0.6191 - recall: 0.6146\n",
            "Epoch 15/20\n",
            "170/170 [==============================] - 0s 684us/step - loss: 0.3967 - accuracy: 0.8091 - precision: 0.6190 - recall: 0.6136\n",
            "Epoch 16/20\n",
            "170/170 [==============================] - 0s 678us/step - loss: 0.3966 - accuracy: 0.8088 - precision: 0.6179 - recall: 0.6146\n",
            "Epoch 17/20\n",
            "170/170 [==============================] - 0s 655us/step - loss: 0.3966 - accuracy: 0.8093 - precision: 0.6194 - recall: 0.6136\n",
            "Epoch 18/20\n",
            "170/170 [==============================] - 0s 655us/step - loss: 0.3966 - accuracy: 0.8089 - precision: 0.6183 - recall: 0.6148\n",
            "Epoch 19/20\n",
            "170/170 [==============================] - 0s 655us/step - loss: 0.3966 - accuracy: 0.8098 - precision: 0.6209 - recall: 0.6131\n",
            "Epoch 20/20\n",
            "170/170 [==============================] - 0s 655us/step - loss: 0.3966 - accuracy: 0.8088 - precision: 0.6179 - recall: 0.6150\n"
          ]
        },
        {
          "data": {
            "image/png": "[encoded data removed]",
            "text/plain": [
              "<Figure size 640x480 with 1 Axes>"
            ]
          },
          "metadata": {},
          "output_type": "display_data"
        }
      ],
      "source": [
        "#@title Double-click to view the solution for Task 3.\n",
        "\n",
        "# The following variables are the hyperparameters.\n",
        "learning_rate = 0.001\n",
        "epochs = 20\n",
        "batch_size = 100\n",
        "classification_threshold = 0.35\n",
        "label_name = \"median_house_value_is_high\"\n",
        "\n",
        "# Here is the updated definition of METRICS:\n",
        "METRICS = [\n",
        "      tf.keras.metrics.BinaryAccuracy(name='accuracy',\n",
        "                                      threshold=classification_threshold),\n",
        "      tf.keras.metrics.Precision(thresholds=classification_threshold,\n",
        "                                 name='precision'\n",
        "                                 ),\n",
        "      tf.keras.metrics.Recall(thresholds=classification_threshold,\n",
        "                              name=\"recall\"),\n",
        "]\n",
        "\n",
        "# Establish the model's topography.\n",
        "my_model = create_model(inputs, learning_rate, METRICS)\n",
        "\n",
        "# Train the model on the training set.\n",
        "epochs, hist = train_model(my_model, train_df_norm, epochs,\n",
        "                           label_name, batch_size)\n",
        "\n",
        "# Plot metrics vs. epochs\n",
        "list_of_metrics_to_plot = ['accuracy', \"precision\", \"recall\"]\n",
        "plot_curve(epochs, hist, list_of_metrics_to_plot)\n",
        "\n",
        "\n",
        "# The new graphs suggest that precision and recall are\n",
        "# somewhat in conflict. That is, improvements to one of\n",
        "# those metrics may hurt the other metric."
      ]
    },
    {
      "cell_type": "markdown",
      "metadata": {
        "id": "cAsB85iKSXLe"
      },
      "source": [
        "## Task 4: Experiment with the classification threshold (if time permits)\n",
        "\n",
        "Experiment with different values for `classification_threshold` in the code cell within \"Invoke the creating, training, and plotting functions.\"  What value of `classification_threshold` produces the highest accuracy?"
      ]
    },
    {
      "cell_type": "code",
      "execution_count": 15,
      "metadata": {
        "cellView": "form",
        "id": "FLPDYI7Sphnj"
      },
      "outputs": [
        {
          "name": "stdout",
          "output_type": "stream",
          "text": [
            "Epoch 1/20\n",
            "170/170 [==============================] - 0s 678us/step - loss: 0.6396 - accuracy: 0.7296 - precision: 0.4711 - recall: 0.6699\n",
            "Epoch 2/20\n",
            "170/170 [==============================] - 0s 666us/step - loss: 0.5830 - accuracy: 0.7520 - precision: 0.5028 - recall: 0.6454\n",
            "Epoch 3/20\n",
            "170/170 [==============================] - 0s 672us/step - loss: 0.5358 - accuracy: 0.7715 - precision: 0.5370 - recall: 0.6204\n",
            "Epoch 4/20\n",
            "170/170 [==============================] - 0s 684us/step - loss: 0.4958 - accuracy: 0.7871 - precision: 0.5709 - recall: 0.5945\n",
            "Epoch 5/20\n",
            "170/170 [==============================] - 0s 666us/step - loss: 0.4637 - accuracy: 0.8006 - precision: 0.6081 - recall: 0.5682\n",
            "Epoch 6/20\n",
            "170/170 [==============================] - 0s 678us/step - loss: 0.4387 - accuracy: 0.8127 - precision: 0.6508 - recall: 0.5401\n",
            "Epoch 7/20\n",
            "170/170 [==============================] - 0s 672us/step - loss: 0.4203 - accuracy: 0.8209 - precision: 0.6903 - recall: 0.5138\n",
            "Epoch 8/20\n",
            "170/170 [==============================] - 0s 714us/step - loss: 0.4086 - accuracy: 0.8271 - precision: 0.7287 - recall: 0.4902\n",
            "Epoch 9/20\n",
            "170/170 [==============================] - 0s 666us/step - loss: 0.4020 - accuracy: 0.8308 - precision: 0.7558 - recall: 0.4766\n",
            "Epoch 10/20\n",
            "170/170 [==============================] - 0s 666us/step - loss: 0.3989 - accuracy: 0.8336 - precision: 0.7768 - recall: 0.4688\n",
            "Epoch 11/20\n",
            "170/170 [==============================] - 0s 684us/step - loss: 0.3976 - accuracy: 0.8352 - precision: 0.7864 - recall: 0.4672\n",
            "Epoch 12/20\n",
            "170/170 [==============================] - 0s 708us/step - loss: 0.3971 - accuracy: 0.8366 - precision: 0.7901 - recall: 0.4714\n",
            "Epoch 13/20\n",
            "170/170 [==============================] - 0s 660us/step - loss: 0.3969 - accuracy: 0.8368 - precision: 0.7914 - recall: 0.4707\n",
            "Epoch 14/20\n",
            "170/170 [==============================] - 0s 666us/step - loss: 0.3967 - accuracy: 0.8365 - precision: 0.7903 - recall: 0.4704\n",
            "Epoch 15/20\n",
            "170/170 [==============================] - 0s 661us/step - loss: 0.3967 - accuracy: 0.8359 - precision: 0.7863 - recall: 0.4714\n",
            "Epoch 16/20\n",
            "170/170 [==============================] - 0s 666us/step - loss: 0.3966 - accuracy: 0.8361 - precision: 0.7877 - recall: 0.4709\n",
            "Epoch 17/20\n",
            "170/170 [==============================] - 0s 696us/step - loss: 0.3966 - accuracy: 0.8361 - precision: 0.7852 - recall: 0.4733\n",
            "Epoch 18/20\n",
            "170/170 [==============================] - 0s 661us/step - loss: 0.3966 - accuracy: 0.8362 - precision: 0.7847 - recall: 0.4745\n",
            "Epoch 19/20\n",
            "170/170 [==============================] - 0s 678us/step - loss: 0.3966 - accuracy: 0.8364 - precision: 0.7845 - recall: 0.4756\n",
            "Epoch 20/20\n",
            "170/170 [==============================] - 0s 661us/step - loss: 0.3966 - accuracy: 0.8361 - precision: 0.7852 - recall: 0.4735\n"
          ]
        },
        {
          "data": {
            "image/png": "[encoded data removed]",
            "text/plain": [
              "<Figure size 640x480 with 1 Axes>"
            ]
          },
          "metadata": {},
          "output_type": "display_data"
        }
      ],
      "source": [
        "#@title Double-click to view the solution for Task 4.\n",
        "\n",
        "# The following variables are the hyperparameters.\n",
        "learning_rate = 0.001\n",
        "epochs = 20\n",
        "batch_size = 100\n",
        "classification_threshold = 0.52\n",
        "label_name = \"median_house_value_is_high\"\n",
        "\n",
        "# Here is the updated definition of METRICS:\n",
        "METRICS = [\n",
        "      tf.keras.metrics.BinaryAccuracy(name='accuracy',\n",
        "                                      threshold=classification_threshold),\n",
        "      tf.keras.metrics.Precision(thresholds=classification_threshold,\n",
        "                                 name='precision'\n",
        "                                 ),\n",
        "      tf.keras.metrics.Recall(thresholds=classification_threshold,\n",
        "                              name=\"recall\"),\n",
        "]\n",
        "\n",
        "# Establish the model's topography.\n",
        "my_model = create_model(inputs, learning_rate, METRICS)\n",
        "\n",
        "# Train the model on the training set.\n",
        "epochs, hist = train_model(my_model, train_df_norm, epochs,\n",
        "                           label_name, batch_size)\n",
        "\n",
        "# Plot metrics vs. epochs\n",
        "list_of_metrics_to_plot = ['accuracy', \"precision\", \"recall\"]\n",
        "plot_curve(epochs, hist, list_of_metrics_to_plot)\n",
        "\n",
        "# A `classification_threshold` of slightly over 0.5\n",
        "# appears to produce the highest accuracy (about 83%).\n",
        "# Raising the `classification_threshold` to 0.9 drops\n",
        "# accuracy by about 5%.  Lowering the\n",
        "# `classification_threshold` to 0.3 drops accuracy by\n",
        "# about 3%."
      ]
    },
    {
      "cell_type": "markdown",
      "metadata": {
        "id": "XBGRS0Ndduus"
      },
      "source": [
        "## Task 5: Summarize model performance (if time permits)\n",
        "\n",
        "If time permits, add one more metric that attempts to summarize the model's overall performance."
      ]
    },
    {
      "cell_type": "code",
      "execution_count": 16,
      "metadata": {
        "cellView": "form",
        "id": "vwNE6syoFvWe"
      },
      "outputs": [
        {
          "name": "stdout",
          "output_type": "stream",
          "text": [
            "Epoch 1/20\n",
            "170/170 [==============================] - 0s 731us/step - loss: 1.1122 - auc: 0.1722\n",
            "Epoch 2/20\n",
            "170/170 [==============================] - 0s 661us/step - loss: 0.9826 - auc: 0.1679\n",
            "Epoch 3/20\n",
            "170/170 [==============================] - 0s 661us/step - loss: 0.8699 - auc: 0.1650\n",
            "Epoch 4/20\n",
            "170/170 [==============================] - 0s 660us/step - loss: 0.7765 - auc: 0.1692\n",
            "Epoch 5/20\n",
            "170/170 [==============================] - 0s 661us/step - loss: 0.7016 - auc: 0.1926\n",
            "Epoch 6/20\n",
            "170/170 [==============================] - 0s 714us/step - loss: 0.6413 - auc: 0.2361\n",
            "Epoch 7/20\n",
            "170/170 [==============================] - 0s 666us/step - loss: 0.5923 - auc: 0.3426\n",
            "Epoch 8/20\n",
            "170/170 [==============================] - 0s 672us/step - loss: 0.5511 - auc: 0.6454\n",
            "Epoch 9/20\n",
            "170/170 [==============================] - 0s 672us/step - loss: 0.5159 - auc: 0.7860\n",
            "Epoch 10/20\n",
            "170/170 [==============================] - 0s 672us/step - loss: 0.4872 - auc: 0.8151\n",
            "Epoch 11/20\n",
            "170/170 [==============================] - 0s 666us/step - loss: 0.4635 - auc: 0.8261\n",
            "Epoch 12/20\n",
            "170/170 [==============================] - 0s 655us/step - loss: 0.4445 - auc: 0.8311\n",
            "Epoch 13/20\n",
            "170/170 [==============================] - 0s 661us/step - loss: 0.4293 - auc: 0.8338\n",
            "Epoch 14/20\n",
            "170/170 [==============================] - 0s 661us/step - loss: 0.4183 - auc: 0.8350\n",
            "Epoch 15/20\n",
            "170/170 [==============================] - 0s 719us/step - loss: 0.4099 - auc: 0.8358\n",
            "Epoch 16/20\n",
            "170/170 [==============================] - 0s 661us/step - loss: 0.4044 - auc: 0.8361\n",
            "Epoch 17/20\n",
            "170/170 [==============================] - 0s 649us/step - loss: 0.4008 - auc: 0.8366\n",
            "Epoch 18/20\n",
            "170/170 [==============================] - 0s 849us/step - loss: 0.3988 - auc: 0.8367\n",
            "Epoch 19/20\n",
            "170/170 [==============================] - 0s 661us/step - loss: 0.3977 - auc: 0.8367\n",
            "Epoch 20/20\n",
            "170/170 [==============================] - 0s 655us/step - loss: 0.3972 - auc: 0.8369\n"
          ]
        },
        {
          "data": {
            "image/png": "[encoded data removed]",
            "text/plain": [
              "<Figure size 640x480 with 1 Axes>"
            ]
          },
          "metadata": {},
          "output_type": "display_data"
        }
      ],
      "source": [
        "#@title Double-click to view the solution for Task 5.\n",
        "\n",
        "# The following variables are the hyperparameters.\n",
        "learning_rate = 0.001\n",
        "epochs = 20\n",
        "batch_size = 100\n",
        "label_name = \"median_house_value_is_high\"\n",
        "\n",
        "# AUC is a reasonable \"summary\" metric for\n",
        "# classification models.\n",
        "# Here is the updated definition of METRICS to\n",
        "# measure AUC:\n",
        "METRICS = [\n",
        "      tf.keras.metrics.AUC(num_thresholds=100, name='auc'),\n",
        "]\n",
        "\n",
        "# Establish the model's topography.\n",
        "my_model = create_model(inputs, learning_rate, METRICS)\n",
        "\n",
        "# Train the model on the training set.\n",
        "epochs, hist = train_model(my_model, train_df_norm, epochs,\n",
        "                           label_name, batch_size)\n",
        "\n",
        "# Plot metrics vs. epochs\n",
        "list_of_metrics_to_plot = ['auc']\n",
        "plot_curve(epochs, hist, list_of_metrics_to_plot)"
      ]
    }
  ],
  "metadata": {
    "colab": {
      "name": "Binary Classification.ipynb",
      "private_outputs": true,
      "provenance": []
    },
    "kernelspec": {
      "display_name": "Python 3",
      "name": "python3"
    },
    "language_info": {
      "codemirror_mode": {
        "name": "ipython",
        "version": 3
      },
      "file_extension": ".py",
      "mimetype": "text/x-python",
      "name": "python",
      "nbconvert_exporter": "python",
      "pygments_lexer": "ipython3",
      "version": "3.11.7"
    }
  },
  "nbformat": 4,
  "nbformat_minor": 0
}
